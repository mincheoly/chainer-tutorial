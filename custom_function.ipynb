{
 "cells": [
  {
   "cell_type": "markdown",
   "metadata": {},
   "source": [
    "# Creating my own functions and loss functions\n",
    "\n",
    "Implement some really basic stuff, like the loss for logistic regression.\n",
    "\n",
    "Ultimately i'll try to do some other fancier things"
   ]
  },
  {
   "cell_type": "code",
   "execution_count": 1,
   "metadata": {},
   "outputs": [],
   "source": [
    "import numpy as np\n",
    "import chainer\n",
    "from chainer.backends import cuda\n",
    "from chainer import Function, gradient_check, report, training, utils, Variable\n",
    "from chainer import datasets, iterators, optimizers, serializers\n",
    "from chainer import Link, Chain, ChainList\n",
    "import chainer.functions as F\n",
    "import chainer.links as L\n",
    "from chainer.training import extensions"
   ]
  },
  {
   "cell_type": "markdown",
   "metadata": {},
   "source": [
    "### Trivial example\n",
    "\n",
    "MulMat example from the chainer docs"
   ]
  },
  {
   "cell_type": "code",
   "execution_count": 2,
   "metadata": {},
   "outputs": [],
   "source": [
    "class MulAdd(Function):\n",
    "    def forward_cpu(self, inputs):\n",
    "        x, y, z = inputs\n",
    "        w = x * y + z\n",
    "        return w,\n",
    "\n",
    "    def backward_cpu(self, inputs, grad_outputs):\n",
    "        x, y, z = inputs\n",
    "        gw, = grad_outputs\n",
    "\n",
    "        gx = y * gw\n",
    "        gy = x * gw\n",
    "        gz = gw\n",
    "        return gx, gy, gz"
   ]
  },
  {
   "cell_type": "code",
   "execution_count": 3,
   "metadata": {},
   "outputs": [],
   "source": [
    "x = Variable(np.random.uniform(-1, 1, (3, 2)).astype(np.float32))\n",
    "y = Variable(np.random.uniform(-1, 1, (3, 2)).astype(np.float32))\n",
    "z = Variable(np.random.uniform(-1, 1, (3, 2)).astype(np.float32))"
   ]
  },
  {
   "cell_type": "code",
   "execution_count": 4,
   "metadata": {},
   "outputs": [],
   "source": [
    "w = MulAdd()(x, y, z)"
   ]
  },
  {
   "cell_type": "code",
   "execution_count": 5,
   "metadata": {},
   "outputs": [
    {
     "data": {
      "text/plain": [
       "variable([[-1.8339593 , -0.18977103],\n",
       "          [-0.06671906, -0.83354545],\n",
       "          [-0.57003677,  0.1599898 ]])"
      ]
     },
     "execution_count": 5,
     "metadata": {},
     "output_type": "execute_result"
    }
   ],
   "source": [
    "w"
   ]
  },
  {
   "cell_type": "code",
   "execution_count": 10,
   "metadata": {},
   "outputs": [],
   "source": [
    "dummy = w + 1"
   ]
  },
  {
   "cell_type": "code",
   "execution_count": 11,
   "metadata": {},
   "outputs": [],
   "source": [
    "dummy.backward()"
   ]
  },
  {
   "cell_type": "code",
   "execution_count": 13,
   "metadata": {},
   "outputs": [
    {
     "data": {
      "text/plain": [
       "variable([[-1.8339593 , -0.18977103],\n",
       "          [-0.06671906, -0.83354545],\n",
       "          [-0.57003677,  0.1599898 ]])"
      ]
     },
     "execution_count": 13,
     "metadata": {},
     "output_type": "execute_result"
    }
   ],
   "source": [
    "w"
   ]
  },
  {
   "cell_type": "code",
   "execution_count": null,
   "metadata": {},
   "outputs": [],
   "source": []
  }
 ],
 "metadata": {
  "kernelspec": {
   "display_name": "Python [conda env:learning-chainer]",
   "language": "python",
   "name": "conda-env-learning-chainer-py"
  },
  "language_info": {
   "codemirror_mode": {
    "name": "ipython",
    "version": 3
   },
   "file_extension": ".py",
   "mimetype": "text/x-python",
   "name": "python",
   "nbconvert_exporter": "python",
   "pygments_lexer": "ipython3",
   "version": "3.6.5"
  }
 },
 "nbformat": 4,
 "nbformat_minor": 2
}
